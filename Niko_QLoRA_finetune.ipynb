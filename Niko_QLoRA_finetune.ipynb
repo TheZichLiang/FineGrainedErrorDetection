{
 "cells": [
  {
   "cell_type": "markdown",
   "id": "2af436d1-5e69-4310-9b66-ded076615f0d",
   "metadata": {},
   "source": [
    "## Imports"
   ]
  },
  {
   "cell_type": "code",
   "execution_count": 1,
   "id": "4f13db4e-4b6f-4f0d-8d84-04fe2c78341e",
   "metadata": {},
   "outputs": [],
   "source": [
    "import argparse\n",
    "import logging\n",
    "import os\n",
    "import torch\n",
    "\n",
    "import numpy as np\n",
    "from datasets import load_from_disk\n",
    "from transformers import (\n",
    "    AutoModelForSeq2SeqLM,\n",
    "    AutoTokenizer,\n",
    "    DataCollatorForSeq2Seq,\n",
    "    Seq2SeqTrainer,\n",
    "    Seq2SeqTrainingArguments,\n",
    "    BitsAndBytesConfig,\n",
    "    AutoModel,\n",
    "    AutoConfig\n",
    ")\n",
    "from peft import LoraConfig, get_peft_model, prepare_model_for_kbit_training, TaskType\n",
    "\n",
    "def print_trainable_parameters(model):\n",
    "    \"\"\"\n",
    "    Prints the number of trainable parameters in the model.\n",
    "    \"\"\"\n",
    "    trainable_params = 0\n",
    "    all_param = 0\n",
    "    for _, param in model.named_parameters():\n",
    "        all_param += param.numel()\n",
    "        if param.requires_grad:\n",
    "            trainable_params += param.numel()\n",
    "    print(\n",
    "        f\"trainable params: {trainable_params} || all params: {all_param} || trainable%: {100 * trainable_params / all_param}\"\n",
    "    )\n"
   ]
  },
  {
   "cell_type": "markdown",
   "id": "a8028485-5fd3-40f1-b227-eb40dcdca24a",
   "metadata": {},
   "source": [
    "## Set up CometKiwi base model"
   ]
  },
  {
   "cell_type": "code",
   "execution_count": 2,
   "id": "2b3c7dbf-0aec-4d0c-9df7-9d5c76e9b159",
   "metadata": {},
   "outputs": [
    {
     "data": {
      "application/vnd.jupyter.widget-view+json": {
       "model_id": "5f6d8d24af51493fad773cb098e5fa31",
       "version_major": 2,
       "version_minor": 0
      },
      "text/plain": [
       "Fetching 5 files:   0%|          | 0/5 [00:00<?, ?it/s]"
      ]
     },
     "metadata": {},
     "output_type": "display_data"
    },
    {
     "name": "stderr",
     "output_type": "stream",
     "text": [
      "Lightning automatically upgraded your loaded checkpoint from v1.8.2 to v2.4.0. To apply the upgrade to your files permanently, run `python -m pytorch_lightning.utilities.upgrade_checkpoint ../../../../.cache/huggingface/hub/models--Unbabel--wmt22-cometkiwi-da/snapshots/b3a8aea5a5fc22db68a554b92b3d96eb6ea75cc9/checkpoints/model.ckpt`\n",
      "Encoder model frozen.\n",
      "/home/neko/miniconda3/envs/723project/lib/python3.8/site-packages/pytorch_lightning/core/saving.py:195: Found keys that are not in the model state dict but in the checkpoint: ['encoder.model.embeddings.position_ids']\n"
     ]
    }
   ],
   "source": [
    "from comet import download_model, load_from_checkpoint\n",
    "\n",
    "# Import CometKiwi Model\n",
    "model_path = download_model(\"Unbabel/wmt22-cometkiwi-da\")\n",
    "model = load_from_checkpoint(model_path)"
   ]
  },
  {
   "cell_type": "code",
   "execution_count": 3,
   "id": "413b2271-dd36-4492-89c4-d6169959c4a6",
   "metadata": {},
   "outputs": [
    {
     "name": "stdout",
     "output_type": "stream",
     "text": [
      "trainable params: 6296603 || all params: 565137435 || trainable%: 1.114171988978221\n"
     ]
    }
   ],
   "source": [
    "print_trainable_parameters(model)"
   ]
  },
  {
   "cell_type": "markdown",
   "id": "20abb488-c01e-4798-afab-40a4639cf76b",
   "metadata": {},
   "source": [
    "## Finetuning distillbert model"
   ]
  },
  {
   "cell_type": "code",
   "execution_count": 19,
   "id": "cc7ea1f9-3141-45f0-93bc-bd5cee7a7b01",
   "metadata": {},
   "outputs": [],
   "source": [
    "from datasets import load_dataset\n",
    "from datasets import Dataset\n",
    "import pandas as pd\n",
    "\n",
    "df = pd.read_csv(\"task_1/en-gu/train.engu.df.short.tsv\", sep='\\t')\n",
    "df = df.iloc[:,1:]\n",
    "train_dataset = Dataset.from_pandas(df)\n",
    "\n",
    "df = pd.read_csv(\"task_1/en-gu/dev.engu.df.short.tsv\", sep='\\t')\n",
    "df = df.iloc[:,1:]\n",
    "test_dataset = Dataset.from_pandas(df)"
   ]
  },
  {
   "cell_type": "code",
   "execution_count": 33,
   "id": "87d797aa-6c69-4cb3-96bf-42bdeeebfaa7",
   "metadata": {},
   "outputs": [
    {
     "data": {
      "text/plain": [
       "'Fortunately, no one sustained injuries in these incidents.'"
      ]
     },
     "execution_count": 33,
     "metadata": {},
     "output_type": "execute_result"
    }
   ],
   "source": [
    "train_dataset['original'][1]"
   ]
  },
  {
   "cell_type": "code",
   "execution_count": 25,
   "id": "8a8081e5-647d-4bf9-8161-dc226904a1f0",
   "metadata": {},
   "outputs": [
    {
     "data": {
      "application/vnd.jupyter.widget-view+json": {
       "model_id": "e7f66c2e5b8044f4a2912d30055f4b95",
       "version_major": 2,
       "version_minor": 0
      },
      "text/plain": [
       "Map:   0%|          | 0/7000 [00:00<?, ? examples/s]"
      ]
     },
     "metadata": {},
     "output_type": "display_data"
    }
   ],
   "source": [
    "from transformers import AutoTokenizer\n",
    "\n",
    "tokenizer = AutoTokenizer.from_pretrained(\"google-bert/bert-base-cased\")\n",
    "\n",
    "def tokenize_function(examples):\n",
    "    return tokenizer(examples[\"original\"], padding=\"max_length\", truncation=True)\n",
    "\n",
    "tokenized_datasets = train_dataset.map(tokenize_function, batched=True)"
   ]
  },
  {
   "cell_type": "code",
   "execution_count": 34,
   "id": "7026cd43-4f66-48da-b557-3de7e64ec0be",
   "metadata": {},
   "outputs": [
    {
     "data": {
      "text/plain": [
       "'Fortunately, no one sustained injuries in these incidents.'"
      ]
     },
     "execution_count": 34,
     "metadata": {},
     "output_type": "execute_result"
    }
   ],
   "source": [
    "tokenized_datasets['original'][1]"
   ]
  },
  {
   "cell_type": "markdown",
   "id": "61fbc31e-9463-4cc1-84cf-17240cd71fd9",
   "metadata": {},
   "source": [
    "## Set up data for predictions"
   ]
  },
  {
   "cell_type": "code",
   "execution_count": 6,
   "id": "ade893ab-ab0f-4d04-b876-19bd3866a18b",
   "metadata": {},
   "outputs": [],
   "source": [
    "import pandas as pd\n",
    "\n",
    "mt_path = 'test_data_2023/task1_sentence_level/en-de/test.ende.final.mt'\n",
    "src_path = 'test_data_2023/task1_sentence_level/en-de/test.ende.final.src'\n",
    "with open(mt_path, 'r') as f:\n",
    "    mt = f.read().splitlines()\n",
    "    f.close()\n",
    "with open(mt_path, 'r') as f:\n",
    "    src = f.read().splitlines()\n",
    "    f.close\n",
    "\n",
    "data = []\n",
    "if len(mt) == len(src):\n",
    "    for (m,s) in list(zip(mt,src)):\n",
    "        d = {}\n",
    "        d['mt'] = m\n",
    "        d['src'] = s\n",
    "        data.append(d)\n",
    "else:\n",
    "    print('length of mt and src do not match')"
   ]
  },
  {
   "cell_type": "code",
   "execution_count": 9,
   "id": "e17d03c0-753d-4c97-832c-2bfa0898f786",
   "metadata": {},
   "outputs": [
    {
     "name": "stderr",
     "output_type": "stream",
     "text": [
      "GPU available: True (cuda), used: True\n",
      "TPU available: False, using: 0 TPU cores\n",
      "HPU available: False, using: 0 HPUs\n",
      "LOCAL_RANK: 0 - CUDA_VISIBLE_DEVICES: [0]\n",
      "Predicting DataLoader 0: 100%|████████████████████████████████████████████████████████| 238/238 [00:11<00:00, 19.94it/s]\n"
     ]
    }
   ],
   "source": [
    "base_model_output = model.predict(data, batch_size=8, gpus=1)"
   ]
  },
  {
   "cell_type": "code",
   "execution_count": null,
   "id": "0ae9743e-cc83-4ca8-94af-9f7682aaf534",
   "metadata": {},
   "outputs": [],
   "source": [
    "base_model_output"
   ]
  },
  {
   "cell_type": "markdown",
   "id": "e41a4bcd-638e-479c-9f5b-5a5ba86482bd",
   "metadata": {},
   "source": [
    "## Apply LoRa to model"
   ]
  },
  {
   "cell_type": "code",
   "execution_count": 11,
   "id": "f6d7f918-8a3b-4da6-8030-d94da60c40b3",
   "metadata": {},
   "outputs": [],
   "source": [
    "lora_model = prepare_model_for_kbit_training(model)"
   ]
  },
  {
   "cell_type": "code",
   "execution_count": 14,
   "id": "396ffe07-e31e-4522-b9b7-4f8508d7d4c6",
   "metadata": {},
   "outputs": [],
   "source": [
    "config = LoraConfig(\n",
    "        r=16, \n",
    "        target_modules = ['query','key','value']\n",
    "    )\n",
    "\n",
    "lora_model = get_peft_model(lora_model, config)"
   ]
  },
  {
   "cell_type": "code",
   "execution_count": 15,
   "id": "b064a4e0-6df7-4f29-9ee6-fa680d2d86cb",
   "metadata": {},
   "outputs": [
    {
     "name": "stdout",
     "output_type": "stream",
     "text": [
      "trainable params: 2359296 || all params: 567496731 || trainable%: 0.4157373727673508\n"
     ]
    }
   ],
   "source": [
    "print_trainable_parameters(lora_model)"
   ]
  },
  {
   "cell_type": "code",
   "execution_count": 16,
   "id": "b0116211-661d-4e7b-a231-11b5addf8eeb",
   "metadata": {},
   "outputs": [
    {
     "name": "stderr",
     "output_type": "stream",
     "text": [
      "GPU available: True (cuda), used: True\n",
      "TPU available: False, using: 0 TPU cores\n",
      "HPU available: False, using: 0 HPUs\n",
      "LOCAL_RANK: 0 - CUDA_VISIBLE_DEVICES: [0]\n",
      "Predicting DataLoader 0: 100%|████████████████████████████████████████████████████████| 238/238 [00:12<00:00, 18.80it/s]\n"
     ]
    }
   ],
   "source": [
    "lora_model_output = model.predict(data, batch_size=8, gpus=1)"
   ]
  },
  {
   "cell_type": "code",
   "execution_count": 22,
   "id": "323ca160-b20f-4502-bc80-4823c86d36b8",
   "metadata": {},
   "outputs": [
    {
     "data": {
      "text/plain": [
       "0.0"
      ]
     },
     "execution_count": 22,
     "metadata": {},
     "output_type": "execute_result"
    }
   ],
   "source": [
    "diff_sum = 0\n",
    "for (b,l) in list(zip(base_model_output['scores'], lora_model_output['scores'])):\n",
    "    diff_sum += (b-l)\n",
    "diff_sum"
   ]
  },
  {
   "cell_type": "code",
   "execution_count": null,
   "id": "6a7845ac-10a1-4421-acee-8cf1da8e132a",
   "metadata": {},
   "outputs": [],
   "source": []
  }
 ],
 "metadata": {
  "kernelspec": {
   "display_name": "723project",
   "language": "python",
   "name": "723project"
  },
  "language_info": {
   "codemirror_mode": {
    "name": "ipython",
    "version": 3
   },
   "file_extension": ".py",
   "mimetype": "text/x-python",
   "name": "python",
   "nbconvert_exporter": "python",
   "pygments_lexer": "ipython3",
   "version": "3.8.20"
  }
 },
 "nbformat": 4,
 "nbformat_minor": 5
}
