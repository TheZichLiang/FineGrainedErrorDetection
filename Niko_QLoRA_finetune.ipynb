{
 "cells": [
  {
   "cell_type": "markdown",
   "id": "2af436d1-5e69-4310-9b66-ded076615f0d",
   "metadata": {},
   "source": [
    "## Imports"
   ]
  },
  {
   "cell_type": "code",
   "execution_count": 1,
   "id": "4f13db4e-4b6f-4f0d-8d84-04fe2c78341e",
   "metadata": {},
   "outputs": [
    {
     "name": "stdout",
     "output_type": "stream",
     "text": [
      "The history saving thread hit an unexpected error (OperationalError('attempt to write a readonly database')).History will not be written to the database.\n"
     ]
    }
   ],
   "source": [
    "import argparse\n",
    "import logging\n",
    "import os\n",
    "import torch\n",
    "\n",
    "import numpy as np\n",
    "from datasets import load_from_disk\n",
    "from transformers import (\n",
    "    AutoModelForSeq2SeqLM,\n",
    "    AutoTokenizer,\n",
    "    DataCollatorForSeq2Seq,\n",
    "    Seq2SeqTrainer,\n",
    "    Seq2SeqTrainingArguments,\n",
    "    BitsAndBytesConfig,\n",
    "    AutoModel,\n",
    "    AutoConfig\n",
    ")\n",
    "from peft import LoraConfig, get_peft_model, prepare_model_for_kbit_training, TaskType\n",
    "\n",
    "def print_trainable_parameters(model):\n",
    "    \"\"\"\n",
    "    Prints the number of trainable parameters in the model.\n",
    "    \"\"\"\n",
    "    trainable_params = 0\n",
    "    all_param = 0\n",
    "    for _, param in model.named_parameters():\n",
    "        all_param += param.numel()\n",
    "        if param.requires_grad:\n",
    "            trainable_params += param.numel()\n",
    "    print(\n",
    "        f\"trainable params: {trainable_params} || all params: {all_param} || trainable%: {100 * trainable_params / all_param}\"\n",
    "    )\n"
   ]
  },
  {
   "cell_type": "markdown",
   "id": "a8028485-5fd3-40f1-b227-eb40dcdca24a",
   "metadata": {},
   "source": [
    "## Set up CometKiwi base model"
   ]
  },
  {
   "cell_type": "code",
   "execution_count": 2,
   "id": "2b3c7dbf-0aec-4d0c-9df7-9d5c76e9b159",
   "metadata": {},
   "outputs": [
    {
     "data": {
      "application/vnd.jupyter.widget-view+json": {
       "model_id": "e3679c3e19b840dc945dfc7e8df942c5",
       "version_major": 2,
       "version_minor": 0
      },
      "text/plain": [
       "Fetching 5 files:   0%|          | 0/5 [00:00<?, ?it/s]"
      ]
     },
     "metadata": {},
     "output_type": "display_data"
    },
    {
     "name": "stderr",
     "output_type": "stream",
     "text": [
      "/fs/classhomes/fall2024/cmsc723/c7230021/miniconda3/lib/python3.12/site-packages/pytorch_lightning/core/saving.py:195: Found keys that are not in the model state dict but in the checkpoint: ['encoder.model.embeddings.position_ids']\n"
     ]
    }
   ],
   "source": [
    "from comet import download_model, load_from_checkpoint\n",
    "\n",
    "# Import CometKiwi Model\n",
    "model_path = download_model(\"Unbabel/wmt22-cometkiwi-da\")\n",
    "model = load_from_checkpoint(model_path)"
   ]
  },
  {
   "cell_type": "code",
   "execution_count": 3,
   "id": "413b2271-dd36-4492-89c4-d6169959c4a6",
   "metadata": {},
   "outputs": [
    {
     "name": "stdout",
     "output_type": "stream",
     "text": [
      "trainable params: 6296603 || all params: 565137435 || trainable%: 1.114171988978221\n"
     ]
    }
   ],
   "source": [
    "print_trainable_parameters(model)"
   ]
  },
  {
   "cell_type": "markdown",
   "id": "20abb488-c01e-4798-afab-40a4639cf76b",
   "metadata": {},
   "source": [
    "## Finetuning Multilingual Uncased Bert Model"
   ]
  },
  {
   "cell_type": "code",
   "execution_count": 263,
   "id": "cc7ea1f9-3141-45f0-93bc-bd5cee7a7b01",
   "metadata": {},
   "outputs": [],
   "source": [
    "from datasets import load_dataset\n",
    "from datasets import Dataset\n",
    "import pandas as pd\n",
    "\n",
    "train_dataset = pd.read_csv('train.csv')\n",
    "#train_dataset = train_dataset.iloc[:6992] # EN to DE\n",
    "train_dataset = train_dataset.iloc[6992:13964] # EN to ZH\n",
    "#train_dataset = train_dataset.iloc[13964:20960] # ET to EN\n",
    "#train_dataset = train_dataset.iloc[20960:27124] # NP to EN\n",
    "#train_dataset = train_dataset.iloc[27124:33898] # RO to EN\n",
    "#train_dataset = train_dataset.iloc[33898:] # RU to EN\n",
    "train_dataset = Dataset.from_pandas(train_dataset)\n",
    "\n",
    "validation_dataset = pd.read_csv('validation.csv')\n",
    "#validation_dataset = validation_dataset.iloc[:1000] # EN to DE\n",
    "validation_dataset = validation_dataset.iloc[1000:1996] # EN to ZH\n",
    "#validation_dataset = validation_dataset.iloc[1996:2995] # ET to EN\n",
    "#validation_dataset = validation_dataset.iloc[2995:3937] # NP to EN\n",
    "#validation_dataset = validation_dataset.iloc[3937:4842] # RO to EN\n",
    "#validation_dataset = validation_dataset.iloc[4842:] # RU to EN\n",
    "validation_dataset = Dataset.from_pandas(validation_dataset)\n",
    "\n",
    "test_dataset = pd.read_csv('test.csv')\n",
    "#test_dataset = test_dataset.iloc[:998] # EN to DE\n",
    "test_dataset = test_dataset.iloc[998:1995] # EN to ZH\n",
    "#test_dataset = test_dataset.iloc[1995:2994] # ET to EN\n",
    "#test_dataset = test_dataset.iloc[2994:3993] # NP to EN\n",
    "#test_dataset = test_dataset.iloc[3993:4993] # RO to EN\n",
    "#test_dataset = test_dataset.iloc[4993:] # RU to EN\n",
    "test_dataset = Dataset.from_pandas(test_dataset)"
   ]
  },
  {
   "cell_type": "markdown",
   "id": "f6789854-eb18-40d3-acbb-2d2129e8a6cd",
   "metadata": {},
   "source": [
    "### Tokenize Dataloaders"
   ]
  },
  {
   "cell_type": "code",
   "execution_count": 264,
   "id": "8a8081e5-647d-4bf9-8161-dc226904a1f0",
   "metadata": {},
   "outputs": [
    {
     "data": {
      "application/vnd.jupyter.widget-view+json": {
       "model_id": "c80cc47e4e2c42bea3ed6b3a6f7bfd6e",
       "version_major": 2,
       "version_minor": 0
      },
      "text/plain": [
       "Map:   0%|          | 0/6972 [00:00<?, ? examples/s]"
      ]
     },
     "metadata": {},
     "output_type": "display_data"
    },
    {
     "data": {
      "application/vnd.jupyter.widget-view+json": {
       "model_id": "02ca5c4bfb524a89b329be5b3a7c5bcb",
       "version_major": 2,
       "version_minor": 0
      },
      "text/plain": [
       "Map:   0%|          | 0/996 [00:00<?, ? examples/s]"
      ]
     },
     "metadata": {},
     "output_type": "display_data"
    },
    {
     "data": {
      "application/vnd.jupyter.widget-view+json": {
       "model_id": "64961742d9304cea9f20f5605a23092d",
       "version_major": 2,
       "version_minor": 0
      },
      "text/plain": [
       "Map:   0%|          | 0/997 [00:00<?, ? examples/s]"
      ]
     },
     "metadata": {},
     "output_type": "display_data"
    },
    {
     "name": "stdout",
     "output_type": "stream",
     "text": [
      "Vocab size:  105879\n"
     ]
    }
   ],
   "source": [
    "from transformers import AutoTokenizer\n",
    "\n",
    "tokenizer = AutoTokenizer.from_pretrained(\"google-bert/bert-base-multilingual-uncased\")\n",
    "\n",
    "def tokenize_function(examples):\n",
    "    return tokenizer(examples[\"original\"], \n",
    "        examples[\"translation\"], padding=\"max_length\", truncation=True)\n",
    "\n",
    "train_dataset = train_dataset.map(tokenize_function, batched=True)\n",
    "validation_dataset = validation_dataset.map(tokenize_function, batched=True)\n",
    "test_dataset = test_dataset.map(tokenize_function, batched=True)\n",
    "print('Vocab size: ',tokenizer.vocab_size)"
   ]
  },
  {
   "cell_type": "code",
   "execution_count": 265,
   "id": "b60cf0a0-6853-4e38-b858-3a544d5192da",
   "metadata": {},
   "outputs": [],
   "source": [
    "# Remove irrelvant columns\n",
    "train_dataset = train_dataset.remove_columns(['Unnamed: 0','original','translation'])\n",
    "validation_dataset = validation_dataset.remove_columns(['Unnamed: 0','original','translation'])\n",
    "test_dataset = test_dataset.remove_columns(['Unnamed: 0','original','translation'])\n",
    "\n",
    "# Rename column names to correct format\n",
    "train_dataset = train_dataset.rename_column(\"mean\", \"labels\")\n",
    "validation_dataset = validation_dataset.rename_column(\"mean\", \"labels\")\n",
    "test_dataset = test_dataset.rename_column(\"mean\", \"labels\")\n",
    "\n",
    "# Format lists to torch tensors\n",
    "train_dataset.set_format(\"torch\")\n",
    "validation_dataset.set_format(\"torch\")\n",
    "test_dataset.set_format(\"torch\")"
   ]
  },
  {
   "cell_type": "code",
   "execution_count": 266,
   "id": "0a70360b-a853-47f2-b94e-3e238b8fc72e",
   "metadata": {},
   "outputs": [],
   "source": [
    "# small subset of entire training data for testing the training process\n",
    "\n",
    "train_dataset = train_dataset.shuffle(seed=42).select(range(1000))\n",
    "validation_dataset = validation_dataset.shuffle(seed=42).select(range(100))\n",
    "test_dataset = test_dataset.shuffle(seed=42).select(range(100))"
   ]
  },
  {
   "cell_type": "markdown",
   "id": "76fd5609-1397-4df2-8fa2-d6461d04eb38",
   "metadata": {},
   "source": [
    "### Create Torch Dataloaders"
   ]
  },
  {
   "cell_type": "code",
   "execution_count": 267,
   "id": "d6bfea07-6e33-4599-948f-3d6bcf118120",
   "metadata": {},
   "outputs": [],
   "source": [
    "from torch.utils.data import DataLoader\n",
    "batch_size = 16\n",
    "\n",
    "train_dataloader = DataLoader(train_dataset, shuffle=True, batch_size=batch_size)\n",
    "eval_dataloader = DataLoader(validation_dataset, batch_size=batch_size)"
   ]
  },
  {
   "cell_type": "markdown",
   "id": "3e338c2f-dbf5-44ac-831f-f096c91fed38",
   "metadata": {},
   "source": [
    "### Load Bert Model"
   ]
  },
  {
   "cell_type": "code",
   "execution_count": 268,
   "id": "a3939acb-3afa-4596-9963-7d2749024022",
   "metadata": {},
   "outputs": [
    {
     "name": "stdout",
     "output_type": "stream",
     "text": [
      "trainable params: 167357185 || all params: 167357185 || trainable%: 100.0\n"
     ]
    }
   ],
   "source": [
    "from transformers import AutoModelForSequenceClassification\n",
    "\n",
    "bert_model = torch.load(\"finetuned_Bert.pth\", weights_only=False)#AutoModelForSequenceClassification.from_pretrained(\"google-bert/bert-base-multilingual-uncased\", num_labels=1)\n",
    "print_trainable_parameters(bert_model)"
   ]
  },
  {
   "cell_type": "code",
   "execution_count": 269,
   "id": "475b9572-2f68-4dfd-986e-d242df448063",
   "metadata": {},
   "outputs": [],
   "source": [
    "from torch.optim import AdamW\n",
    "\n",
    "optimizer = AdamW(bert_model.parameters(), lr=7e-5)"
   ]
  },
  {
   "cell_type": "code",
   "execution_count": 270,
   "id": "033c0f60-0eae-493a-8736-f7e4046bf071",
   "metadata": {},
   "outputs": [],
   "source": [
    "from transformers import get_scheduler\n",
    "\n",
    "num_epochs = 20\n",
    "num_training_steps = num_epochs * len(train_dataloader)\n",
    "lr_scheduler = get_scheduler(\n",
    "    name=\"linear\", optimizer=optimizer, num_warmup_steps=0, num_training_steps=num_training_steps\n",
    ")"
   ]
  },
  {
   "cell_type": "code",
   "execution_count": 271,
   "id": "debd90d0-2d1f-4b12-ab8a-9922318015fc",
   "metadata": {},
   "outputs": [
    {
     "data": {
      "text/plain": [
       "BertForSequenceClassification(\n",
       "  (bert): BertModel(\n",
       "    (embeddings): BertEmbeddings(\n",
       "      (word_embeddings): Embedding(105879, 768, padding_idx=0)\n",
       "      (position_embeddings): Embedding(512, 768)\n",
       "      (token_type_embeddings): Embedding(2, 768)\n",
       "      (LayerNorm): LayerNorm((768,), eps=1e-12, elementwise_affine=True)\n",
       "      (dropout): Dropout(p=0.1, inplace=False)\n",
       "    )\n",
       "    (encoder): BertEncoder(\n",
       "      (layer): ModuleList(\n",
       "        (0-11): 12 x BertLayer(\n",
       "          (attention): BertAttention(\n",
       "            (self): BertSdpaSelfAttention(\n",
       "              (query): Linear(in_features=768, out_features=768, bias=True)\n",
       "              (key): Linear(in_features=768, out_features=768, bias=True)\n",
       "              (value): Linear(in_features=768, out_features=768, bias=True)\n",
       "              (dropout): Dropout(p=0.1, inplace=False)\n",
       "            )\n",
       "            (output): BertSelfOutput(\n",
       "              (dense): Linear(in_features=768, out_features=768, bias=True)\n",
       "              (LayerNorm): LayerNorm((768,), eps=1e-12, elementwise_affine=True)\n",
       "              (dropout): Dropout(p=0.1, inplace=False)\n",
       "            )\n",
       "          )\n",
       "          (intermediate): BertIntermediate(\n",
       "            (dense): Linear(in_features=768, out_features=3072, bias=True)\n",
       "            (intermediate_act_fn): GELUActivation()\n",
       "          )\n",
       "          (output): BertOutput(\n",
       "            (dense): Linear(in_features=3072, out_features=768, bias=True)\n",
       "            (LayerNorm): LayerNorm((768,), eps=1e-12, elementwise_affine=True)\n",
       "            (dropout): Dropout(p=0.1, inplace=False)\n",
       "          )\n",
       "        )\n",
       "      )\n",
       "    )\n",
       "    (pooler): BertPooler(\n",
       "      (dense): Linear(in_features=768, out_features=768, bias=True)\n",
       "      (activation): Tanh()\n",
       "    )\n",
       "  )\n",
       "  (dropout): Dropout(p=0.1, inplace=False)\n",
       "  (classifier): Linear(in_features=768, out_features=1, bias=True)\n",
       ")"
      ]
     },
     "execution_count": 271,
     "metadata": {},
     "output_type": "execute_result"
    }
   ],
   "source": [
    "import torch\n",
    "\n",
    "device = torch.device(\"cuda\") if torch.cuda.is_available() else torch.device(\"cpu\")\n",
    "bert_model.to(device)"
   ]
  },
  {
   "cell_type": "code",
   "execution_count": 272,
   "id": "109ee6c1-e351-4d38-a025-09363608f801",
   "metadata": {
    "scrolled": true
   },
   "outputs": [
    {
     "data": {
      "application/vnd.jupyter.widget-view+json": {
       "model_id": "e0231f86d6c345d490fd1392d64878a3",
       "version_major": 2,
       "version_minor": 0
      },
      "text/plain": [
       "  0%|          | 0/70 [00:00<?, ?it/s]"
      ]
     },
     "metadata": {},
     "output_type": "display_data"
    },
    {
     "name": "stdout",
     "output_type": "stream",
     "text": [
      "epoch 1: training loss: 324.8833312988281 validation loss: 128.9677734375\n"
     ]
    },
    {
     "data": {
      "application/vnd.jupyter.widget-view+json": {
       "model_id": "d70a62e898a34710a81dc5978eaa9ffa",
       "version_major": 2,
       "version_minor": 0
      },
      "text/plain": [
       "  0%|          | 0/70 [00:00<?, ?it/s]"
      ]
     },
     "metadata": {},
     "output_type": "display_data"
    },
    {
     "name": "stdout",
     "output_type": "stream",
     "text": [
      "epoch 2: training loss: 321.26495361328125 validation loss: 133.67674255371094\n"
     ]
    },
    {
     "data": {
      "application/vnd.jupyter.widget-view+json": {
       "model_id": "8ec753e965e7459087f301449931d583",
       "version_major": 2,
       "version_minor": 0
      },
      "text/plain": [
       "  0%|          | 0/70 [00:00<?, ?it/s]"
      ]
     },
     "metadata": {},
     "output_type": "display_data"
    },
    {
     "name": "stdout",
     "output_type": "stream",
     "text": [
      "epoch 3: training loss: 321.1992492675781 validation loss: 137.23233032226562\n"
     ]
    },
    {
     "data": {
      "application/vnd.jupyter.widget-view+json": {
       "model_id": "239c7e569daa41ba9cf8234daa48192b",
       "version_major": 2,
       "version_minor": 0
      },
      "text/plain": [
       "  0%|          | 0/70 [00:00<?, ?it/s]"
      ]
     },
     "metadata": {},
     "output_type": "display_data"
    },
    {
     "name": "stdout",
     "output_type": "stream",
     "text": [
      "epoch 4: training loss: 320.1782531738281 validation loss: 137.62118530273438\n"
     ]
    },
    {
     "data": {
      "application/vnd.jupyter.widget-view+json": {
       "model_id": "d44b3fedca0d4b3fb84e779280c0b3c2",
       "version_major": 2,
       "version_minor": 0
      },
      "text/plain": [
       "  0%|          | 0/70 [00:00<?, ?it/s]"
      ]
     },
     "metadata": {},
     "output_type": "display_data"
    },
    {
     "name": "stdout",
     "output_type": "stream",
     "text": [
      "epoch 5: training loss: 324.08892822265625 validation loss: 137.77976989746094\n"
     ]
    },
    {
     "data": {
      "application/vnd.jupyter.widget-view+json": {
       "model_id": "22fcc49e0b984b35b91cf1b5ed4d7481",
       "version_major": 2,
       "version_minor": 0
      },
      "text/plain": [
       "  0%|          | 0/70 [00:00<?, ?it/s]"
      ]
     },
     "metadata": {},
     "output_type": "display_data"
    },
    {
     "name": "stdout",
     "output_type": "stream",
     "text": [
      "epoch 6: training loss: 321.5539245605469 validation loss: 138.1949920654297\n"
     ]
    },
    {
     "data": {
      "application/vnd.jupyter.widget-view+json": {
       "model_id": "024f81c9042b48feac2330bc52677d77",
       "version_major": 2,
       "version_minor": 0
      },
      "text/plain": [
       "  0%|          | 0/70 [00:00<?, ?it/s]"
      ]
     },
     "metadata": {},
     "output_type": "display_data"
    },
    {
     "name": "stdout",
     "output_type": "stream",
     "text": [
      "epoch 7: training loss: 322.58709716796875 validation loss: 138.01805114746094\n"
     ]
    },
    {
     "data": {
      "application/vnd.jupyter.widget-view+json": {
       "model_id": "ea7e9bd975184e65bb76ff718697541f",
       "version_major": 2,
       "version_minor": 0
      },
      "text/plain": [
       "  0%|          | 0/70 [00:00<?, ?it/s]"
      ]
     },
     "metadata": {},
     "output_type": "display_data"
    },
    {
     "name": "stdout",
     "output_type": "stream",
     "text": [
      "epoch 8: training loss: 322.76898193359375 validation loss: 139.40606689453125\n"
     ]
    },
    {
     "data": {
      "application/vnd.jupyter.widget-view+json": {
       "model_id": "019a47a244ca44a78ff1381f57db3ca1",
       "version_major": 2,
       "version_minor": 0
      },
      "text/plain": [
       "  0%|          | 0/70 [00:00<?, ?it/s]"
      ]
     },
     "metadata": {},
     "output_type": "display_data"
    },
    {
     "name": "stdout",
     "output_type": "stream",
     "text": [
      "epoch 9: training loss: 322.60443115234375 validation loss: 138.5810089111328\n"
     ]
    },
    {
     "data": {
      "application/vnd.jupyter.widget-view+json": {
       "model_id": "192bf6db00d845bda9a76498ac65c3d6",
       "version_major": 2,
       "version_minor": 0
      },
      "text/plain": [
       "  0%|          | 0/70 [00:00<?, ?it/s]"
      ]
     },
     "metadata": {},
     "output_type": "display_data"
    },
    {
     "name": "stdout",
     "output_type": "stream",
     "text": [
      "epoch 10: training loss: 321.3830871582031 validation loss: 138.78958129882812\n"
     ]
    },
    {
     "data": {
      "application/vnd.jupyter.widget-view+json": {
       "model_id": "b895517844b343dc9fe03d5f1dfaf2c6",
       "version_major": 2,
       "version_minor": 0
      },
      "text/plain": [
       "  0%|          | 0/70 [00:00<?, ?it/s]"
      ]
     },
     "metadata": {},
     "output_type": "display_data"
    },
    {
     "name": "stdout",
     "output_type": "stream",
     "text": [
      "epoch 11: training loss: 323.2615966796875 validation loss: 138.7861785888672\n"
     ]
    },
    {
     "data": {
      "application/vnd.jupyter.widget-view+json": {
       "model_id": "9c13d2beb7d040d68d77b26188db2799",
       "version_major": 2,
       "version_minor": 0
      },
      "text/plain": [
       "  0%|          | 0/70 [00:00<?, ?it/s]"
      ]
     },
     "metadata": {},
     "output_type": "display_data"
    },
    {
     "name": "stdout",
     "output_type": "stream",
     "text": [
      "epoch 12: training loss: 322.12945556640625 validation loss: 138.0813446044922\n"
     ]
    },
    {
     "data": {
      "application/vnd.jupyter.widget-view+json": {
       "model_id": "20d04173cc194856965b3f55de519ddf",
       "version_major": 2,
       "version_minor": 0
      },
      "text/plain": [
       "  0%|          | 0/70 [00:00<?, ?it/s]"
      ]
     },
     "metadata": {},
     "output_type": "display_data"
    },
    {
     "ename": "KeyboardInterrupt",
     "evalue": "",
     "output_type": "error",
     "traceback": [
      "\u001b[0;31m---------------------------------------------------------------------------\u001b[0m",
      "\u001b[0;31mKeyboardInterrupt\u001b[0m                         Traceback (most recent call last)",
      "Cell \u001b[0;32mIn[272], line 15\u001b[0m\n\u001b[1;32m     13\u001b[0m progress_bar \u001b[38;5;241m=\u001b[39m tqdm(\u001b[38;5;28mrange\u001b[39m(\u001b[38;5;28mlen\u001b[39m(train_dataloader)\u001b[38;5;241m+\u001b[39m\u001b[38;5;28mlen\u001b[39m(eval_dataloader)))\n\u001b[1;32m     14\u001b[0m \u001b[38;5;28;01mfor\u001b[39;00m batch \u001b[38;5;129;01min\u001b[39;00m train_dataloader:\n\u001b[0;32m---> 15\u001b[0m     batch \u001b[38;5;241m=\u001b[39m {k: \u001b[43mv\u001b[49m\u001b[38;5;241;43m.\u001b[39;49m\u001b[43mto\u001b[49m\u001b[43m(\u001b[49m\u001b[43mdevice\u001b[49m\u001b[43m)\u001b[49m \u001b[38;5;28;01mfor\u001b[39;00m k, v \u001b[38;5;129;01min\u001b[39;00m batch\u001b[38;5;241m.\u001b[39mitems()}\n\u001b[1;32m     17\u001b[0m     outputs \u001b[38;5;241m=\u001b[39m bert_model(\u001b[38;5;241m*\u001b[39m\u001b[38;5;241m*\u001b[39mbatch)\n\u001b[1;32m     18\u001b[0m     loss \u001b[38;5;241m=\u001b[39m outputs\u001b[38;5;241m.\u001b[39mloss\n",
      "\u001b[0;31mKeyboardInterrupt\u001b[0m: "
     ]
    }
   ],
   "source": [
    "from tqdm.auto import tqdm\n",
    "import csv\n",
    "\n",
    "with open('log.csv', 'w', newline='') as f:\n",
    "   writer = csv.writer(f)\n",
    "   writer.writerow(['epoch', 'train_loss', 'valid_loss'])\n",
    "\n",
    "for epoch in range(num_epochs):\n",
    "    train_losses = []\n",
    "    valid_losses = []\n",
    "    \n",
    "    bert_model.train()\n",
    "    progress_bar = tqdm(range(len(train_dataloader)+len(eval_dataloader)))\n",
    "    for batch in train_dataloader:\n",
    "        batch = {k: v.to(device) for k, v in batch.items()}\n",
    "        \n",
    "        outputs = bert_model(**batch)\n",
    "        loss = outputs.loss\n",
    "        train_losses.append(loss)\n",
    "        loss.backward()\n",
    "\n",
    "        optimizer.step()\n",
    "        lr_scheduler.step()\n",
    "        optimizer.zero_grad()\n",
    "        progress_bar.update(1)\n",
    "\n",
    "    bert_model.eval()\n",
    "    for batch in eval_dataloader:\n",
    "        batch = {k: v.to(device) for k, v in batch.items()}\n",
    "        with torch.no_grad():\n",
    "            outputs = bert_model(**batch)\n",
    "            loss = outputs.loss\n",
    "            valid_losses.append(loss)\n",
    "            progress_bar.update(1)\n",
    "            \n",
    "    train_loss = sum(train_losses)/len(train_losses)\n",
    "    valid_loss = sum(valid_losses)/len(valid_losses)\n",
    "    print(f'epoch {epoch+1}: training loss: {train_loss} validation loss: {valid_loss}')\n",
    "    with open('log.csv', 'a', newline='') as f:\n",
    "       writer = csv.writer(f)\n",
    "       writer.writerow([epoch+1, train_loss.item(), valid_loss.item()])\n",
    "        "
   ]
  },
  {
   "cell_type": "code",
   "execution_count": 11,
   "id": "9b0e098e-2d8d-4092-8d4b-aa07a0f43e86",
   "metadata": {},
   "outputs": [],
   "source": [
    "# save model\n",
    "#torch.save(bert_model, 'finetuned_Bert.pth')"
   ]
  },
  {
   "cell_type": "markdown",
   "id": "dbc7c401-23ce-4845-a3bf-d06e7ead93f5",
   "metadata": {},
   "source": [
    "### Plot train and validation loss graph"
   ]
  },
  {
   "cell_type": "code",
   "execution_count": 273,
   "id": "67364ac0-6171-4600-933b-e95f6481ddd2",
   "metadata": {},
   "outputs": [
    {
     "data": {
      "text/plain": [
       "<Axes: >"
      ]
     },
     "execution_count": 273,
     "metadata": {},
     "output_type": "execute_result"
    },
    {
     "data": {
      "image/png": "[encoded data removed]",
      "text/plain": [
       "<Figure size 640x480 with 1 Axes>"
      ]
     },
     "metadata": {},
     "output_type": "display_data"
    }
   ],
   "source": [
    "import pandas as pd\n",
    "import matplotlib.pyplot as plt\n",
    "train_log = pd.read_csv('log.csv')\n",
    "train_log = train_log[['train_loss','valid_loss']]\n",
    "train_log.plot()"
   ]
  },
  {
   "cell_type": "markdown",
   "id": "61fbc31e-9463-4cc1-84cf-17240cd71fd9",
   "metadata": {},
   "source": [
    "## Set up data for predictions"
   ]
  },
  {
   "cell_type": "code",
   "execution_count": 6,
   "id": "ade893ab-ab0f-4d04-b876-19bd3866a18b",
   "metadata": {},
   "outputs": [],
   "source": [
    "import pandas as pd\n",
    "\n",
    "mt_path = 'test_data_2023/task1_sentence_level/en-de/test.ende.final.mt'\n",
    "src_path = 'test_data_2023/task1_sentence_level/en-de/test.ende.final.src'\n",
    "with open(mt_path, 'r') as f:\n",
    "    mt = f.read().splitlines()\n",
    "    f.close()\n",
    "with open(mt_path, 'r') as f:\n",
    "    src = f.read().splitlines()\n",
    "    f.close\n",
    "\n",
    "data = []\n",
    "if len(mt) == len(src):\n",
    "    for (m,s) in list(zip(mt,src)):\n",
    "        d = {}\n",
    "        d['mt'] = m\n",
    "        d['src'] = s\n",
    "        data.append(d)\n",
    "else:\n",
    "    print('length of mt and src do not match')"
   ]
  },
  {
   "cell_type": "code",
   "execution_count": 9,
   "id": "e17d03c0-753d-4c97-832c-2bfa0898f786",
   "metadata": {},
   "outputs": [
    {
     "name": "stderr",
     "output_type": "stream",
     "text": [
      "GPU available: True (cuda), used: True\n",
      "TPU available: False, using: 0 TPU cores\n",
      "HPU available: False, using: 0 HPUs\n",
      "LOCAL_RANK: 0 - CUDA_VISIBLE_DEVICES: [0]\n",
      "Predicting DataLoader 0: 100%|████████████████████████████████████████████████████████| 238/238 [00:11<00:00, 19.94it/s]\n"
     ]
    }
   ],
   "source": [
    "base_model_output = model.predict(data, batch_size=8, gpus=1)"
   ]
  },
  {
   "cell_type": "code",
   "execution_count": null,
   "id": "0ae9743e-cc83-4ca8-94af-9f7682aaf534",
   "metadata": {},
   "outputs": [],
   "source": [
    "base_model_output"
   ]
  },
  {
   "cell_type": "markdown",
   "id": "e41a4bcd-638e-479c-9f5b-5a5ba86482bd",
   "metadata": {},
   "source": [
    "## Apply LoRa to model"
   ]
  },
  {
   "cell_type": "code",
   "execution_count": 11,
   "id": "f6d7f918-8a3b-4da6-8030-d94da60c40b3",
   "metadata": {},
   "outputs": [],
   "source": [
    "lora_model = prepare_model_for_kbit_training(model)"
   ]
  },
  {
   "cell_type": "code",
   "execution_count": 14,
   "id": "396ffe07-e31e-4522-b9b7-4f8508d7d4c6",
   "metadata": {},
   "outputs": [],
   "source": [
    "config = LoraConfig(\n",
    "        r=16, \n",
    "        target_modules = ['query','key','value']\n",
    "    )\n",
    "\n",
    "lora_model = get_peft_model(lora_model, config)"
   ]
  },
  {
   "cell_type": "code",
   "execution_count": 15,
   "id": "b064a4e0-6df7-4f29-9ee6-fa680d2d86cb",
   "metadata": {},
   "outputs": [
    {
     "name": "stdout",
     "output_type": "stream",
     "text": [
      "trainable params: 2359296 || all params: 567496731 || trainable%: 0.4157373727673508\n"
     ]
    }
   ],
   "source": [
    "print_trainable_parameters(lora_model)"
   ]
  },
  {
   "cell_type": "code",
   "execution_count": 16,
   "id": "b0116211-661d-4e7b-a231-11b5addf8eeb",
   "metadata": {},
   "outputs": [
    {
     "name": "stderr",
     "output_type": "stream",
     "text": [
      "GPU available: True (cuda), used: True\n",
      "TPU available: False, using: 0 TPU cores\n",
      "HPU available: False, using: 0 HPUs\n",
      "LOCAL_RANK: 0 - CUDA_VISIBLE_DEVICES: [0]\n",
      "Predicting DataLoader 0: 100%|████████████████████████████████████████████████████████| 238/238 [00:12<00:00, 18.80it/s]\n"
     ]
    }
   ],
   "source": [
    "lora_model_output = model.predict(data, batch_size=8, gpus=1)"
   ]
  },
  {
   "cell_type": "code",
   "execution_count": 22,
   "id": "323ca160-b20f-4502-bc80-4823c86d36b8",
   "metadata": {},
   "outputs": [
    {
     "data": {
      "text/plain": [
       "0.0"
      ]
     },
     "execution_count": 22,
     "metadata": {},
     "output_type": "execute_result"
    }
   ],
   "source": [
    "diff_sum = 0\n",
    "for (b,l) in list(zip(base_model_output['scores'], lora_model_output['scores'])):\n",
    "    diff_sum += (b-l)\n",
    "diff_sum"
   ]
  },
  {
   "cell_type": "code",
   "execution_count": 56,
   "id": "6a7845ac-10a1-4421-acee-8cf1da8e132a",
   "metadata": {},
   "outputs": [
    {
     "data": {
      "text/plain": [
       "{'labels': tensor([13.6667, 70.0000, 36.0000, 85.0000, 89.0000, 91.6667, 72.6667, 81.6667]),\n",
       " 'input_ids': tensor([[  101, 25577, 12123,  ...,     0,     0,     0],\n",
       "         [  101, 10103, 69387,  ...,     0,     0,     0],\n",
       "         [  101, 38544, 66554,  ...,     0,     0,     0],\n",
       "         ...,\n",
       "         [  101, 24079, 13384,  ...,     0,     0,     0],\n",
       "         [  101, 10572, 11120,  ...,     0,     0,     0],\n",
       "         [  101, 10597, 54475,  ...,     0,     0,     0]]),\n",
       " 'token_type_ids': tensor([[0, 0, 0,  ..., 0, 0, 0],\n",
       "         [0, 0, 0,  ..., 0, 0, 0],\n",
       "         [0, 0, 0,  ..., 0, 0, 0],\n",
       "         ...,\n",
       "         [0, 0, 0,  ..., 0, 0, 0],\n",
       "         [0, 0, 0,  ..., 0, 0, 0],\n",
       "         [0, 0, 0,  ..., 0, 0, 0]]),\n",
       " 'attention_mask': tensor([[1, 1, 1,  ..., 0, 0, 0],\n",
       "         [1, 1, 1,  ..., 0, 0, 0],\n",
       "         [1, 1, 1,  ..., 0, 0, 0],\n",
       "         ...,\n",
       "         [1, 1, 1,  ..., 0, 0, 0],\n",
       "         [1, 1, 1,  ..., 0, 0, 0],\n",
       "         [1, 1, 1,  ..., 0, 0, 0]])}"
      ]
     },
     "execution_count": 56,
     "metadata": {},
     "output_type": "execute_result"
    }
   ],
   "source": []
  },
  {
   "cell_type": "code",
   "execution_count": 165,
   "id": "1a8944a5-662d-488e-94d5-f08efde77bd4",
   "metadata": {},
   "outputs": [
    {
     "data": {
      "text/html": [
       "<div>\n",
       "<style scoped>\n",
       "    .dataframe tbody tr th:only-of-type {\n",
       "        vertical-align: middle;\n",
       "    }\n",
       "\n",
       "    .dataframe tbody tr th {\n",
       "        vertical-align: top;\n",
       "    }\n",
       "\n",
       "    .dataframe thead th {\n",
       "        text-align: right;\n",
       "    }\n",
       "</style>\n",
       "<table border=\"1\" class=\"dataframe\">\n",
       "  <thead>\n",
       "    <tr style=\"text-align: right;\">\n",
       "      <th></th>\n",
       "      <th>Unnamed: 0</th>\n",
       "      <th>original</th>\n",
       "      <th>translation</th>\n",
       "      <th>mean</th>\n",
       "    </tr>\n",
       "  </thead>\n",
       "  <tbody>\n",
       "    <tr>\n",
       "      <th>4993</th>\n",
       "      <td>5000</td>\n",
       "      <td>Этот молодой мозамбикец учился в России, а чле...</td>\n",
       "      <td>This young Mozambican studied in Russia, and m...</td>\n",
       "      <td>90.000000</td>\n",
       "    </tr>\n",
       "    <tr>\n",
       "      <th>4994</th>\n",
       "      <td>5001</td>\n",
       "      <td>Ласковое слово лучше мягкого пирога.</td>\n",
       "      <td>An affectionate word is better than a soft pie.</td>\n",
       "      <td>82.333333</td>\n",
       "    </tr>\n",
       "    <tr>\n",
       "      <th>4995</th>\n",
       "      <td>5002</td>\n",
       "      <td>— Ну, спасибо, конечно, на добром слове...</td>\n",
       "      <td>Well, thanks, of course, for the kind words...</td>\n",
       "      <td>74.000000</td>\n",
       "    </tr>\n",
       "    <tr>\n",
       "      <th>4996</th>\n",
       "      <td>5003</td>\n",
       "      <td>Вэтом ейпомогает Дмитрий Рыжов.</td>\n",
       "      <td>Dmitry Ryzhov helps in this.</td>\n",
       "      <td>83.000000</td>\n",
       "    </tr>\n",
       "    <tr>\n",
       "      <th>4997</th>\n",
       "      <td>5004</td>\n",
       "      <td>Приплюсуй к цене проезда такой набор бонусов, ...</td>\n",
       "      <td>Add to the fare such a set of bonuses, and it ...</td>\n",
       "      <td>81.000000</td>\n",
       "    </tr>\n",
       "    <tr>\n",
       "      <th>...</th>\n",
       "      <td>...</td>\n",
       "      <td>...</td>\n",
       "      <td>...</td>\n",
       "      <td>...</td>\n",
       "    </tr>\n",
       "    <tr>\n",
       "      <th>5988</th>\n",
       "      <td>5995</td>\n",
       "      <td>За морем веселье, да чужое, а у нас и горе, да...</td>\n",
       "      <td>Beyond the sea is merriment, but we have sorro...</td>\n",
       "      <td>26.333333</td>\n",
       "    </tr>\n",
       "    <tr>\n",
       "      <th>5989</th>\n",
       "      <td>5996</td>\n",
       "      <td>С 1991 управляет крупнейшим на сегодняшний ден...</td>\n",
       "      <td>Since 1991, he has managed the largest nunnery...</td>\n",
       "      <td>68.666667</td>\n",
       "    </tr>\n",
       "    <tr>\n",
       "      <th>5990</th>\n",
       "      <td>5997</td>\n",
       "      <td>Борода-то с ворота, а ума-то с прикалиток.</td>\n",
       "      <td>The beard is from the gate, and the mind is fr...</td>\n",
       "      <td>16.333333</td>\n",
       "    </tr>\n",
       "    <tr>\n",
       "      <th>5991</th>\n",
       "      <td>5998</td>\n",
       "      <td>Шри Япутра поднялся на трибуну, обвел всех взг...</td>\n",
       "      <td>Sri Yaputra rose to the podium, looked around,...</td>\n",
       "      <td>81.000000</td>\n",
       "    </tr>\n",
       "    <tr>\n",
       "      <th>5992</th>\n",
       "      <td>5999</td>\n",
       "      <td>Коротко - он хитрит</td>\n",
       "      <td>In a nutshell - he's cunning</td>\n",
       "      <td>91.000000</td>\n",
       "    </tr>\n",
       "  </tbody>\n",
       "</table>\n",
       "<p>1000 rows × 4 columns</p>\n",
       "</div>"
      ],
      "text/plain": [
       "      Unnamed: 0                                           original  \\\n",
       "4993        5000  Этот молодой мозамбикец учился в России, а чле...   \n",
       "4994        5001               Ласковое слово лучше мягкого пирога.   \n",
       "4995        5002         — Ну, спасибо, конечно, на добром слове...   \n",
       "4996        5003                    Вэтом ейпомогает Дмитрий Рыжов.   \n",
       "4997        5004  Приплюсуй к цене проезда такой набор бонусов, ...   \n",
       "...          ...                                                ...   \n",
       "5988        5995  За морем веселье, да чужое, а у нас и горе, да...   \n",
       "5989        5996  С 1991 управляет крупнейшим на сегодняшний ден...   \n",
       "5990        5997         Борода-то с ворота, а ума-то с прикалиток.   \n",
       "5991        5998  Шри Япутра поднялся на трибуну, обвел всех взг...   \n",
       "5992        5999                                Коротко - он хитрит   \n",
       "\n",
       "                                            translation       mean  \n",
       "4993  This young Mozambican studied in Russia, and m...  90.000000  \n",
       "4994    An affectionate word is better than a soft pie.  82.333333  \n",
       "4995     Well, thanks, of course, for the kind words...  74.000000  \n",
       "4996                       Dmitry Ryzhov helps in this.  83.000000  \n",
       "4997  Add to the fare such a set of bonuses, and it ...  81.000000  \n",
       "...                                                 ...        ...  \n",
       "5988  Beyond the sea is merriment, but we have sorro...  26.333333  \n",
       "5989  Since 1991, he has managed the largest nunnery...  68.666667  \n",
       "5990  The beard is from the gate, and the mind is fr...  16.333333  \n",
       "5991  Sri Yaputra rose to the podium, looked around,...  81.000000  \n",
       "5992                       In a nutshell - he's cunning  91.000000  \n",
       "\n",
       "[1000 rows x 4 columns]"
      ]
     },
     "execution_count": 165,
     "metadata": {},
     "output_type": "execute_result"
    }
   ],
   "source": []
  },
  {
   "cell_type": "code",
   "execution_count": 171,
   "id": "aac06eea-ba20-449e-98b3-fcd6389366a4",
   "metadata": {},
   "outputs": [
    {
     "data": {
      "text/html": [
       "<div>\n",
       "<style scoped>\n",
       "    .dataframe tbody tr th:only-of-type {\n",
       "        vertical-align: middle;\n",
       "    }\n",
       "\n",
       "    .dataframe tbody tr th {\n",
       "        vertical-align: top;\n",
       "    }\n",
       "\n",
       "    .dataframe thead th {\n",
       "        text-align: right;\n",
       "    }\n",
       "</style>\n",
       "<table border=\"1\" class=\"dataframe\">\n",
       "  <thead>\n",
       "    <tr style=\"text-align: right;\">\n",
       "      <th></th>\n",
       "      <th>Unnamed: 0</th>\n",
       "      <th>original</th>\n",
       "      <th>translation</th>\n",
       "      <th>mean</th>\n",
       "    </tr>\n",
       "  </thead>\n",
       "  <tbody>\n",
       "    <tr>\n",
       "      <th>4842</th>\n",
       "      <td>4847</td>\n",
       "      <td>Кто бы и знал, коли б не сам сказал.</td>\n",
       "      <td>Who would have known if he hadn't said it hims...</td>\n",
       "      <td>90.000000</td>\n",
       "    </tr>\n",
       "    <tr>\n",
       "      <th>4843</th>\n",
       "      <td>4848</td>\n",
       "      <td>Которая рука крест кладёт, та и нож точит.</td>\n",
       "      <td>Whoever puts the cross in his hand sharpens th...</td>\n",
       "      <td>39.333333</td>\n",
       "    </tr>\n",
       "    <tr>\n",
       "      <th>4844</th>\n",
       "      <td>4849</td>\n",
       "      <td>Иисус им в ответ:</td>\n",
       "      <td>Jesus answered them:</td>\n",
       "      <td>89.666667</td>\n",
       "    </tr>\n",
       "    <tr>\n",
       "      <th>4845</th>\n",
       "      <td>4850</td>\n",
       "      <td>Это уже третий случай, когда подобные действия...</td>\n",
       "      <td>This is the third time such actions by Hong Ko...</td>\n",
       "      <td>88.666667</td>\n",
       "    </tr>\n",
       "    <tr>\n",
       "      <th>4846</th>\n",
       "      <td>4851</td>\n",
       "      <td>Официальное заявление u/Forjoin в коллегию мод...</td>\n",
       "      <td>The official u / Forjoin statement to the r / ...</td>\n",
       "      <td>89.666667</td>\n",
       "    </tr>\n",
       "    <tr>\n",
       "      <th>...</th>\n",
       "      <td>...</td>\n",
       "      <td>...</td>\n",
       "      <td>...</td>\n",
       "      <td>...</td>\n",
       "    </tr>\n",
       "    <tr>\n",
       "      <th>5837</th>\n",
       "      <td>5842</td>\n",
       "      <td>«Потери не просто велики — они ужасающи.</td>\n",
       "      <td>The losses are not just large; they are horrific.</td>\n",
       "      <td>85.000000</td>\n",
       "    </tr>\n",
       "    <tr>\n",
       "      <th>5838</th>\n",
       "      <td>5843</td>\n",
       "      <td>РЕВПАНОРАМА - пУТИН БАНДИТ ИЗ 90-Х ::</td>\n",
       "      <td>REVPANORAMA - PUTIN BANDIT FROM the 90's::</td>\n",
       "      <td>70.333333</td>\n",
       "    </tr>\n",
       "    <tr>\n",
       "      <th>5839</th>\n",
       "      <td>5844</td>\n",
       "      <td>Интервью с А.Трефиловой</td>\n",
       "      <td>Interview with A. Trefilova</td>\n",
       "      <td>96.000000</td>\n",
       "    </tr>\n",
       "    <tr>\n",
       "      <th>5840</th>\n",
       "      <td>5845</td>\n",
       "      <td>Во что свинья ни оденется, а всё хвост к гузну...</td>\n",
       "      <td>Whatever the pig puts on, the whole tail will ...</td>\n",
       "      <td>64.000000</td>\n",
       "    </tr>\n",
       "    <tr>\n",
       "      <th>5841</th>\n",
       "      <td>5846</td>\n",
       "      <td>Президент Владимир Путин 3 октября 2018 года п...</td>\n",
       "      <td>On October 3, 2018, President Vladimir Putin s...</td>\n",
       "      <td>87.000000</td>\n",
       "    </tr>\n",
       "  </tbody>\n",
       "</table>\n",
       "<p>1000 rows × 4 columns</p>\n",
       "</div>"
      ],
      "text/plain": [
       "      Unnamed: 0                                           original  \\\n",
       "4842        4847               Кто бы и знал, коли б не сам сказал.   \n",
       "4843        4848         Которая рука крест кладёт, та и нож точит.   \n",
       "4844        4849                                  Иисус им в ответ:   \n",
       "4845        4850  Это уже третий случай, когда подобные действия...   \n",
       "4846        4851  Официальное заявление u/Forjoin в коллегию мод...   \n",
       "...          ...                                                ...   \n",
       "5837        5842           «Потери не просто велики — они ужасающи.   \n",
       "5838        5843              РЕВПАНОРАМА - пУТИН БАНДИТ ИЗ 90-Х ::   \n",
       "5839        5844                            Интервью с А.Трефиловой   \n",
       "5840        5845  Во что свинья ни оденется, а всё хвост к гузну...   \n",
       "5841        5846  Президент Владимир Путин 3 октября 2018 года п...   \n",
       "\n",
       "                                            translation       mean  \n",
       "4842  Who would have known if he hadn't said it hims...  90.000000  \n",
       "4843  Whoever puts the cross in his hand sharpens th...  39.333333  \n",
       "4844                               Jesus answered them:  89.666667  \n",
       "4845  This is the third time such actions by Hong Ko...  88.666667  \n",
       "4846  The official u / Forjoin statement to the r / ...  89.666667  \n",
       "...                                                 ...        ...  \n",
       "5837  The losses are not just large; they are horrific.  85.000000  \n",
       "5838         REVPANORAMA - PUTIN BANDIT FROM the 90's::  70.333333  \n",
       "5839                        Interview with A. Trefilova  96.000000  \n",
       "5840  Whatever the pig puts on, the whole tail will ...  64.000000  \n",
       "5841  On October 3, 2018, President Vladimir Putin s...  87.000000  \n",
       "\n",
       "[1000 rows x 4 columns]"
      ]
     },
     "execution_count": 171,
     "metadata": {},
     "output_type": "execute_result"
    }
   ],
   "source": [
    "validation_dataset = pd.read_csv('validation.csv')\n",
    "validation_dataset.iloc[:1000] # EN to DE\n",
    "validation_dataset.iloc[1000:1996] # EN to ZH\n",
    "validation_dataset.iloc[1996:2995] # EN to ET\n",
    "validation_dataset.iloc[2995:3937] # EN to NP\n",
    "validation_dataset.iloc[3937:4842] # EN to RO\n",
    "validation_dataset.iloc[4842:] # EN to RU"
   ]
  },
  {
   "cell_type": "code",
   "execution_count": 184,
   "id": "f333d4fa-eae2-42f3-b1b0-1ecdb9b87fce",
   "metadata": {},
   "outputs": [
    {
     "data": {
      "text/plain": [
       "{'labels': tensor(88.6667),\n",
       " 'input_ids': tensor([  101, 51279,   146,   119, 61785,   117, 28202,   117, 11250,   117,\n",
       "         10821, 10629,   119,   102, 51279,   146,   119, 61785,   117, 37283,\n",
       "           117, 24866,   117, 14009, 39591,   119,   102,     0,     0,     0,\n",
       "             0,     0,     0,     0,     0,     0,     0,     0,     0,     0,\n",
       "             0,     0,     0,     0,     0,     0,     0,     0,     0,     0,\n",
       "             0,     0,     0,     0,     0,     0,     0,     0,     0,     0,\n",
       "             0,     0,     0,     0,     0,     0,     0,     0,     0,     0,\n",
       "             0,     0,     0,     0,     0,     0,     0,     0,     0,     0,\n",
       "             0,     0,     0,     0,     0,     0,     0,     0,     0,     0,\n",
       "             0,     0,     0,     0,     0,     0,     0,     0,     0,     0,\n",
       "             0,     0,     0,     0,     0,     0,     0,     0,     0,     0,\n",
       "             0,     0,     0,     0,     0,     0,     0,     0,     0,     0,\n",
       "             0,     0,     0,     0,     0,     0,     0,     0,     0,     0,\n",
       "             0,     0,     0,     0,     0,     0,     0,     0,     0,     0,\n",
       "             0,     0,     0,     0,     0,     0,     0,     0,     0,     0,\n",
       "             0,     0,     0,     0,     0,     0,     0,     0,     0,     0,\n",
       "             0,     0,     0,     0,     0,     0,     0,     0,     0,     0,\n",
       "             0,     0,     0,     0,     0,     0,     0,     0,     0,     0,\n",
       "             0,     0,     0,     0,     0,     0,     0,     0,     0,     0,\n",
       "             0,     0,     0,     0,     0,     0,     0,     0,     0,     0,\n",
       "             0,     0,     0,     0,     0,     0,     0,     0,     0,     0,\n",
       "             0,     0,     0,     0,     0,     0,     0,     0,     0,     0,\n",
       "             0,     0,     0,     0,     0,     0,     0,     0,     0,     0,\n",
       "             0,     0,     0,     0,     0,     0,     0,     0,     0,     0,\n",
       "             0,     0,     0,     0,     0,     0,     0,     0,     0,     0,\n",
       "             0,     0,     0,     0,     0,     0,     0,     0,     0,     0,\n",
       "             0,     0,     0,     0,     0,     0,     0,     0,     0,     0,\n",
       "             0,     0,     0,     0,     0,     0,     0,     0,     0,     0,\n",
       "             0,     0,     0,     0,     0,     0,     0,     0,     0,     0,\n",
       "             0,     0,     0,     0,     0,     0,     0,     0,     0,     0,\n",
       "             0,     0,     0,     0,     0,     0,     0,     0,     0,     0,\n",
       "             0,     0,     0,     0,     0,     0,     0,     0,     0,     0,\n",
       "             0,     0,     0,     0,     0,     0,     0,     0,     0,     0,\n",
       "             0,     0,     0,     0,     0,     0,     0,     0,     0,     0,\n",
       "             0,     0,     0,     0,     0,     0,     0,     0,     0,     0,\n",
       "             0,     0,     0,     0,     0,     0,     0,     0,     0,     0,\n",
       "             0,     0,     0,     0,     0,     0,     0,     0,     0,     0,\n",
       "             0,     0,     0,     0,     0,     0,     0,     0,     0,     0,\n",
       "             0,     0,     0,     0,     0,     0,     0,     0,     0,     0,\n",
       "             0,     0,     0,     0,     0,     0,     0,     0,     0,     0,\n",
       "             0,     0,     0,     0,     0,     0,     0,     0,     0,     0,\n",
       "             0,     0,     0,     0,     0,     0,     0,     0,     0,     0,\n",
       "             0,     0,     0,     0,     0,     0,     0,     0,     0,     0,\n",
       "             0,     0,     0,     0,     0,     0,     0,     0,     0,     0,\n",
       "             0,     0,     0,     0,     0,     0,     0,     0,     0,     0,\n",
       "             0,     0,     0,     0,     0,     0,     0,     0,     0,     0,\n",
       "             0,     0,     0,     0,     0,     0,     0,     0,     0,     0,\n",
       "             0,     0,     0,     0,     0,     0,     0,     0,     0,     0,\n",
       "             0,     0,     0,     0,     0,     0,     0,     0,     0,     0,\n",
       "             0,     0,     0,     0,     0,     0,     0,     0,     0,     0,\n",
       "             0,     0,     0,     0,     0,     0,     0,     0,     0,     0,\n",
       "             0,     0]),\n",
       " 'token_type_ids': tensor([0, 0, 0, 0, 0, 0, 0, 0, 0, 0, 0, 0, 0, 0, 1, 1, 1, 1, 1, 1, 1, 1, 1, 1,\n",
       "         1, 1, 1, 0, 0, 0, 0, 0, 0, 0, 0, 0, 0, 0, 0, 0, 0, 0, 0, 0, 0, 0, 0, 0,\n",
       "         0, 0, 0, 0, 0, 0, 0, 0, 0, 0, 0, 0, 0, 0, 0, 0, 0, 0, 0, 0, 0, 0, 0, 0,\n",
       "         0, 0, 0, 0, 0, 0, 0, 0, 0, 0, 0, 0, 0, 0, 0, 0, 0, 0, 0, 0, 0, 0, 0, 0,\n",
       "         0, 0, 0, 0, 0, 0, 0, 0, 0, 0, 0, 0, 0, 0, 0, 0, 0, 0, 0, 0, 0, 0, 0, 0,\n",
       "         0, 0, 0, 0, 0, 0, 0, 0, 0, 0, 0, 0, 0, 0, 0, 0, 0, 0, 0, 0, 0, 0, 0, 0,\n",
       "         0, 0, 0, 0, 0, 0, 0, 0, 0, 0, 0, 0, 0, 0, 0, 0, 0, 0, 0, 0, 0, 0, 0, 0,\n",
       "         0, 0, 0, 0, 0, 0, 0, 0, 0, 0, 0, 0, 0, 0, 0, 0, 0, 0, 0, 0, 0, 0, 0, 0,\n",
       "         0, 0, 0, 0, 0, 0, 0, 0, 0, 0, 0, 0, 0, 0, 0, 0, 0, 0, 0, 0, 0, 0, 0, 0,\n",
       "         0, 0, 0, 0, 0, 0, 0, 0, 0, 0, 0, 0, 0, 0, 0, 0, 0, 0, 0, 0, 0, 0, 0, 0,\n",
       "         0, 0, 0, 0, 0, 0, 0, 0, 0, 0, 0, 0, 0, 0, 0, 0, 0, 0, 0, 0, 0, 0, 0, 0,\n",
       "         0, 0, 0, 0, 0, 0, 0, 0, 0, 0, 0, 0, 0, 0, 0, 0, 0, 0, 0, 0, 0, 0, 0, 0,\n",
       "         0, 0, 0, 0, 0, 0, 0, 0, 0, 0, 0, 0, 0, 0, 0, 0, 0, 0, 0, 0, 0, 0, 0, 0,\n",
       "         0, 0, 0, 0, 0, 0, 0, 0, 0, 0, 0, 0, 0, 0, 0, 0, 0, 0, 0, 0, 0, 0, 0, 0,\n",
       "         0, 0, 0, 0, 0, 0, 0, 0, 0, 0, 0, 0, 0, 0, 0, 0, 0, 0, 0, 0, 0, 0, 0, 0,\n",
       "         0, 0, 0, 0, 0, 0, 0, 0, 0, 0, 0, 0, 0, 0, 0, 0, 0, 0, 0, 0, 0, 0, 0, 0,\n",
       "         0, 0, 0, 0, 0, 0, 0, 0, 0, 0, 0, 0, 0, 0, 0, 0, 0, 0, 0, 0, 0, 0, 0, 0,\n",
       "         0, 0, 0, 0, 0, 0, 0, 0, 0, 0, 0, 0, 0, 0, 0, 0, 0, 0, 0, 0, 0, 0, 0, 0,\n",
       "         0, 0, 0, 0, 0, 0, 0, 0, 0, 0, 0, 0, 0, 0, 0, 0, 0, 0, 0, 0, 0, 0, 0, 0,\n",
       "         0, 0, 0, 0, 0, 0, 0, 0, 0, 0, 0, 0, 0, 0, 0, 0, 0, 0, 0, 0, 0, 0, 0, 0,\n",
       "         0, 0, 0, 0, 0, 0, 0, 0, 0, 0, 0, 0, 0, 0, 0, 0, 0, 0, 0, 0, 0, 0, 0, 0,\n",
       "         0, 0, 0, 0, 0, 0, 0, 0]),\n",
       " 'attention_mask': tensor([1, 1, 1, 1, 1, 1, 1, 1, 1, 1, 1, 1, 1, 1, 1, 1, 1, 1, 1, 1, 1, 1, 1, 1,\n",
       "         1, 1, 1, 0, 0, 0, 0, 0, 0, 0, 0, 0, 0, 0, 0, 0, 0, 0, 0, 0, 0, 0, 0, 0,\n",
       "         0, 0, 0, 0, 0, 0, 0, 0, 0, 0, 0, 0, 0, 0, 0, 0, 0, 0, 0, 0, 0, 0, 0, 0,\n",
       "         0, 0, 0, 0, 0, 0, 0, 0, 0, 0, 0, 0, 0, 0, 0, 0, 0, 0, 0, 0, 0, 0, 0, 0,\n",
       "         0, 0, 0, 0, 0, 0, 0, 0, 0, 0, 0, 0, 0, 0, 0, 0, 0, 0, 0, 0, 0, 0, 0, 0,\n",
       "         0, 0, 0, 0, 0, 0, 0, 0, 0, 0, 0, 0, 0, 0, 0, 0, 0, 0, 0, 0, 0, 0, 0, 0,\n",
       "         0, 0, 0, 0, 0, 0, 0, 0, 0, 0, 0, 0, 0, 0, 0, 0, 0, 0, 0, 0, 0, 0, 0, 0,\n",
       "         0, 0, 0, 0, 0, 0, 0, 0, 0, 0, 0, 0, 0, 0, 0, 0, 0, 0, 0, 0, 0, 0, 0, 0,\n",
       "         0, 0, 0, 0, 0, 0, 0, 0, 0, 0, 0, 0, 0, 0, 0, 0, 0, 0, 0, 0, 0, 0, 0, 0,\n",
       "         0, 0, 0, 0, 0, 0, 0, 0, 0, 0, 0, 0, 0, 0, 0, 0, 0, 0, 0, 0, 0, 0, 0, 0,\n",
       "         0, 0, 0, 0, 0, 0, 0, 0, 0, 0, 0, 0, 0, 0, 0, 0, 0, 0, 0, 0, 0, 0, 0, 0,\n",
       "         0, 0, 0, 0, 0, 0, 0, 0, 0, 0, 0, 0, 0, 0, 0, 0, 0, 0, 0, 0, 0, 0, 0, 0,\n",
       "         0, 0, 0, 0, 0, 0, 0, 0, 0, 0, 0, 0, 0, 0, 0, 0, 0, 0, 0, 0, 0, 0, 0, 0,\n",
       "         0, 0, 0, 0, 0, 0, 0, 0, 0, 0, 0, 0, 0, 0, 0, 0, 0, 0, 0, 0, 0, 0, 0, 0,\n",
       "         0, 0, 0, 0, 0, 0, 0, 0, 0, 0, 0, 0, 0, 0, 0, 0, 0, 0, 0, 0, 0, 0, 0, 0,\n",
       "         0, 0, 0, 0, 0, 0, 0, 0, 0, 0, 0, 0, 0, 0, 0, 0, 0, 0, 0, 0, 0, 0, 0, 0,\n",
       "         0, 0, 0, 0, 0, 0, 0, 0, 0, 0, 0, 0, 0, 0, 0, 0, 0, 0, 0, 0, 0, 0, 0, 0,\n",
       "         0, 0, 0, 0, 0, 0, 0, 0, 0, 0, 0, 0, 0, 0, 0, 0, 0, 0, 0, 0, 0, 0, 0, 0,\n",
       "         0, 0, 0, 0, 0, 0, 0, 0, 0, 0, 0, 0, 0, 0, 0, 0, 0, 0, 0, 0, 0, 0, 0, 0,\n",
       "         0, 0, 0, 0, 0, 0, 0, 0, 0, 0, 0, 0, 0, 0, 0, 0, 0, 0, 0, 0, 0, 0, 0, 0,\n",
       "         0, 0, 0, 0, 0, 0, 0, 0, 0, 0, 0, 0, 0, 0, 0, 0, 0, 0, 0, 0, 0, 0, 0, 0,\n",
       "         0, 0, 0, 0, 0, 0, 0, 0])}"
      ]
     },
     "execution_count": 184,
     "metadata": {},
     "output_type": "execute_result"
    }
   ],
   "source": []
  },
  {
   "cell_type": "code",
   "execution_count": null,
   "id": "a3c26746-970d-4d4f-992f-a515a73330f8",
   "metadata": {},
   "outputs": [],
   "source": []
  }
 ],
 "metadata": {
  "kernelspec": {
   "display_name": "Python 3 (ipykernel)",
   "language": "python",
   "name": "python3"
  },
  "language_info": {
   "codemirror_mode": {
    "name": "ipython",
    "version": 3
   },
   "file_extension": ".py",
   "mimetype": "text/x-python",
   "name": "python",
   "nbconvert_exporter": "python",
   "pygments_lexer": "ipython3",
   "version": "3.12.7"
  }
 },
 "nbformat": 4,
 "nbformat_minor": 5
}
