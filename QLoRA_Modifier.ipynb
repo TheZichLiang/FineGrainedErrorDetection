{
 "cells": [
  {
   "cell_type": "code",
   "execution_count": null,
   "id": "78ea0b9c-d4b2-4ade-906d-a8d08f0ad632",
   "metadata": {},
   "outputs": [
    {
     "data": {
      "application/vnd.jupyter.widget-view+json": {
       "model_id": "6bf5aa3d231d4031b8a12fa864cb1e23",
       "version_major": 2,
       "version_minor": 0
      },
      "text/plain": [
       "Fetching 5 files:   0%|          | 0/5 [00:00<?, ?it/s]"
      ]
     },
     "metadata": {},
     "output_type": "display_data"
    },
    {
     "name": "stderr",
     "output_type": "stream",
     "text": [
      "Lightning automatically upgraded your loaded checkpoint from v1.8.2 to v2.4.0. To apply the upgrade to your files permanently, run `python -m pytorch_lightning.utilities.upgrade_checkpoint ../.cache/huggingface/hub/models--Unbabel--wmt22-cometkiwi-da/snapshots/b3a8aea5a5fc22db68a554b92b3d96eb6ea75cc9/checkpoints/model.ckpt`\n",
      "/fs/classhomes/fall2024/cmsc723/c7230021/miniconda3/lib/python3.12/site-packages/pytorch_lightning/core/saving.py:195: Found keys that are not in the model state dict but in the checkpoint: ['encoder.model.embeddings.position_ids']\n"
     ]
    }
   ],
   "source": [
    "from comet import download_model, load_from_checkpoint\n",
    "\n",
    "# Import CometKiwi Model\n",
    "model_path = download_model(\"Unbabel/wmt22-cometkiwi-da\")\n",
    "model = load_from_checkpoint(model_path)"
   ]
  },
  {
   "cell_type": "code",
   "execution_count": null,
   "id": "452c4979-6f4f-41a0-9912-e5cb336c596a",
   "metadata": {
    "scrolled": true
   },
   "outputs": [],
   "source": [
    "from torch import nn\n",
    "from torchtune.modules.peft import LoRALinear\n",
    "\n",
    "def replace_qlora(module, name=\"<ROOT>\"):\n",
    "    '''\n",
    "    Replace Linear layers with LoRALinear layers, recursively.\n",
    "    '''\n",
    "    for attr_str, _ in module.named_children():\n",
    "        target_attr = getattr(module, attr_str)\n",
    "        if type(target_attr) == nn.Linear and \"lora\" not in attr_str:\n",
    "            #print('replacing: ', name, attr_str)\n",
    "            try:\n",
    "                new_ql = nn.Sequential(LoRALinear(in_dim=target_attr.in_features, out_dim=target_attr.out_features, rank=min([target_attr.in_features, target_attr.out_features, 4]), alpha=0.1, quantize_base=True), \n",
    "                           BiasLayer(dim=target_attr.out_features))\n",
    "\n",
    "                setattr(module, attr_str, new_ql)\n",
    "            except:\n",
    "                print(name, attr_str, \"failed, check dims:\", target_attr.in_features, target_attr.out_features)\n",
    "\n",
    "    for name, immediate_child_module in module.named_children():\n",
    "        replace_qlora(immediate_child_module, name)\n",
    "\n",
    "replace_qlora(model)"
   ]
  },
  {
   "cell_type": "code",
   "execution_count": 6,
   "id": "f7d9736e-0d6a-4798-ac79-5cf8cb327f68",
   "metadata": {},
   "outputs": [],
   "source": [
    "from torch import randn\n",
    "class BiasLayer(torch.nn.Module):\n",
    "    \"\"\"A layer that simply adds a trainable bias vector to an input vector.\"\"\"\n",
    "    def __init__(self, dim) -> None:\n",
    "        super().__init__()\n",
    "        bias_value = randn((dim))\n",
    "        self.bias_layer = nn.Parameter(bias_value)\n",
    "    \n",
    "    def forward(self, x):\n",
    "        return x + self.bias_layer"
   ]
  },
  {
   "cell_type": "code",
   "execution_count": null,
   "id": "cb78fe81-6f46-4a46-a34c-03226a4a7d69",
   "metadata": {},
   "outputs": [],
   "source": []
  }
 ],
 "metadata": {
  "kernelspec": {
   "display_name": "Python 3 (ipykernel)",
   "language": "python",
   "name": "python3"
  },
  "language_info": {
   "codemirror_mode": {
    "name": "ipython",
    "version": 3
   },
   "file_extension": ".py",
   "mimetype": "text/x-python",
   "name": "python",
   "nbconvert_exporter": "python",
   "pygments_lexer": "ipython3",
   "version": "3.12.7"
  }
 },
 "nbformat": 4,
 "nbformat_minor": 5
}
