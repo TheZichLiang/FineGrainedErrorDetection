{
 "cells": [
  {
   "cell_type": "code",
   "execution_count": 2,
   "id": "78ea0b9c-d4b2-4ade-906d-a8d08f0ad632",
   "metadata": {
    "scrolled": true
   },
   "outputs": [
    {
     "name": "stderr",
     "output_type": "stream",
     "text": [
      "Fetching 5 files: 100%|██████████████████████████████████████████████████████████████████████████████████████████████████████████████████████████████| 5/5 [00:23<00:00,  4.64s/it]\n",
      "Lightning automatically upgraded your loaded checkpoint from v1.8.2 to v2.4.0. To apply the upgrade to your files permanently, run `python -m pytorch_lightning.utilities.upgrade_checkpoint ../.cache/huggingface/hub/models--Unbabel--wmt22-cometkiwi-da/snapshots/b3a8aea5a5fc22db68a554b92b3d96eb6ea75cc9/checkpoints/model.ckpt`\n",
      "Encoder model frozen.\n",
      "/fs/classhomes/fall2024/cmsc723/c7230018/miniconda3/lib/python3.12/site-packages/pytorch_lightning/core/saving.py:195: Found keys that are not in the model state dict but in the checkpoint: ['encoder.model.embeddings.position_ids']\n"
     ]
    }
   ],
   "source": [
    "from comet import download_model, load_from_checkpoint\n",
    "\n",
    "# Import CometKiwi Model\n",
    "model_path = download_model(\"Unbabel/wmt22-cometkiwi-da\")\n",
    "model = load_from_checkpoint(model_path)"
   ]
  },
  {
   "cell_type": "code",
   "execution_count": 10,
   "id": "452c4979-6f4f-41a0-9912-e5cb336c596a",
   "metadata": {
    "scrolled": true
   },
   "outputs": [
    {
     "name": "stderr",
     "output_type": "stream",
     "text": [
      "lm_eval is not installed, GPTQ may not be usable\n",
      "PyTorch version 2.5.1 available.\n"
     ]
    },
    {
     "name": "stdout",
     "output_type": "stream",
     "text": [
      "ff 6 failed, check dims: 1024 1\n"
     ]
    }
   ],
   "source": [
    "import torch\n",
    "from torch import nn\n",
    "from torchtune.modules.peft import LoRALinear\n",
    "\n",
    "def replace_qlora(module, name=\"<ROOT>\"):\n",
    "    '''\n",
    "    Replace Linear layers with LoRALinear layers, recursively.\n",
    "    '''\n",
    "    for attr_str, _ in module.named_children():\n",
    "        target_attr = getattr(module, attr_str)\n",
    "        if type(target_attr) == nn.Linear and \"lora\" not in attr_str:\n",
    "            #print('replacing: ', name, attr_str)\n",
    "            try:\n",
    "                new_ql = nn.Sequential(LoRALinear(in_dim=target_attr.in_features, out_dim=target_attr.out_features, rank=min([target_attr.in_features, target_attr.out_features, 4]), alpha=0.1, quantize_base=True), \n",
    "                           BiasLayer(dim=target_attr.out_features))\n",
    "\n",
    "                setattr(module, attr_str, new_ql)\n",
    "            except:\n",
    "                print(name, attr_str, \"failed, check dims:\", target_attr.in_features, target_attr.out_features)\n",
    "\n",
    "    for name, immediate_child_module in module.named_children():\n",
    "        replace_qlora(immediate_child_module, name)\n",
    "\n",
    "replace_qlora(model)"
   ]
  },
  {
   "cell_type": "code",
   "execution_count": 11,
   "id": "f7d9736e-0d6a-4798-ac79-5cf8cb327f68",
   "metadata": {},
   "outputs": [],
   "source": [
    "from torch import randn\n",
    "class BiasLayer(torch.nn.Module):\n",
    "    \"\"\"A layer that simply adds a trainable bias vector to an input vector.\"\"\"\n",
    "    def __init__(self, dim) -> None:\n",
    "        super().__init__()\n",
    "        bias_value = randn((dim))\n",
    "        self.bias_layer = nn.Parameter(bias_value)\n",
    "    \n",
    "    def forward(self, x):\n",
    "        return x + self.bias_layer"
   ]
  },
  {
   "cell_type": "code",
   "execution_count": 12,
   "id": "cb78fe81-6f46-4a46-a34c-03226a4a7d69",
   "metadata": {},
   "outputs": [
    {
     "data": {
      "text/plain": [
       "UnifiedMetric(\n",
       "  (encoder): XLMREncoder(\n",
       "    (model): XLMRobertaModel(\n",
       "      (embeddings): XLMRobertaEmbeddings(\n",
       "        (word_embeddings): Embedding(250002, 1024, padding_idx=1)\n",
       "        (position_embeddings): Embedding(514, 1024, padding_idx=1)\n",
       "        (token_type_embeddings): Embedding(1, 1024)\n",
       "        (LayerNorm): LayerNorm((1024,), eps=1e-05, elementwise_affine=True)\n",
       "        (dropout): Dropout(p=0.1, inplace=False)\n",
       "      )\n",
       "      (encoder): XLMRobertaEncoder(\n",
       "        (layer): ModuleList(\n",
       "          (0-23): 24 x XLMRobertaLayer(\n",
       "            (attention): XLMRobertaAttention(\n",
       "              (self): XLMRobertaSdpaSelfAttention(\n",
       "                (query): Sequential(\n",
       "                  (0): LoRALinear(\n",
       "                    (dropout): Identity()\n",
       "                    (lora_a): Linear(in_features=1024, out_features=4, bias=False)\n",
       "                    (lora_b): Linear(in_features=4, out_features=1024, bias=False)\n",
       "                  )\n",
       "                  (1): BiasLayer()\n",
       "                )\n",
       "                (key): Sequential(\n",
       "                  (0): LoRALinear(\n",
       "                    (dropout): Identity()\n",
       "                    (lora_a): Linear(in_features=1024, out_features=4, bias=False)\n",
       "                    (lora_b): Linear(in_features=4, out_features=1024, bias=False)\n",
       "                  )\n",
       "                  (1): BiasLayer()\n",
       "                )\n",
       "                (value): Sequential(\n",
       "                  (0): LoRALinear(\n",
       "                    (dropout): Identity()\n",
       "                    (lora_a): Linear(in_features=1024, out_features=4, bias=False)\n",
       "                    (lora_b): Linear(in_features=4, out_features=1024, bias=False)\n",
       "                  )\n",
       "                  (1): BiasLayer()\n",
       "                )\n",
       "                (dropout): Dropout(p=0.1, inplace=False)\n",
       "              )\n",
       "              (output): XLMRobertaSelfOutput(\n",
       "                (dense): Sequential(\n",
       "                  (0): LoRALinear(\n",
       "                    (dropout): Identity()\n",
       "                    (lora_a): Linear(in_features=1024, out_features=4, bias=False)\n",
       "                    (lora_b): Linear(in_features=4, out_features=1024, bias=False)\n",
       "                  )\n",
       "                  (1): BiasLayer()\n",
       "                )\n",
       "                (LayerNorm): LayerNorm((1024,), eps=1e-05, elementwise_affine=True)\n",
       "                (dropout): Dropout(p=0.1, inplace=False)\n",
       "              )\n",
       "            )\n",
       "            (intermediate): XLMRobertaIntermediate(\n",
       "              (dense): Sequential(\n",
       "                (0): LoRALinear(\n",
       "                  (dropout): Identity()\n",
       "                  (lora_a): Linear(in_features=1024, out_features=4, bias=False)\n",
       "                  (lora_b): Linear(in_features=4, out_features=4096, bias=False)\n",
       "                )\n",
       "                (1): BiasLayer()\n",
       "              )\n",
       "              (intermediate_act_fn): GELUActivation()\n",
       "            )\n",
       "            (output): XLMRobertaOutput(\n",
       "              (dense): Sequential(\n",
       "                (0): LoRALinear(\n",
       "                  (dropout): Identity()\n",
       "                  (lora_a): Linear(in_features=4096, out_features=4, bias=False)\n",
       "                  (lora_b): Linear(in_features=4, out_features=1024, bias=False)\n",
       "                )\n",
       "                (1): BiasLayer()\n",
       "              )\n",
       "              (LayerNorm): LayerNorm((1024,), eps=1e-05, elementwise_affine=True)\n",
       "              (dropout): Dropout(p=0.1, inplace=False)\n",
       "            )\n",
       "          )\n",
       "        )\n",
       "      )\n",
       "    )\n",
       "  )\n",
       "  (layerwise_attention): LayerwiseAttention(\n",
       "    (scalar_parameters): ParameterList(\n",
       "        (0): Parameter containing: [torch.float32 of size 1]\n",
       "        (1): Parameter containing: [torch.float32 of size 1]\n",
       "        (2): Parameter containing: [torch.float32 of size 1]\n",
       "        (3): Parameter containing: [torch.float32 of size 1]\n",
       "        (4): Parameter containing: [torch.float32 of size 1]\n",
       "        (5): Parameter containing: [torch.float32 of size 1]\n",
       "        (6): Parameter containing: [torch.float32 of size 1]\n",
       "        (7): Parameter containing: [torch.float32 of size 1]\n",
       "        (8): Parameter containing: [torch.float32 of size 1]\n",
       "        (9): Parameter containing: [torch.float32 of size 1]\n",
       "        (10): Parameter containing: [torch.float32 of size 1]\n",
       "        (11): Parameter containing: [torch.float32 of size 1]\n",
       "        (12): Parameter containing: [torch.float32 of size 1]\n",
       "        (13): Parameter containing: [torch.float32 of size 1]\n",
       "        (14): Parameter containing: [torch.float32 of size 1]\n",
       "        (15): Parameter containing: [torch.float32 of size 1]\n",
       "        (16): Parameter containing: [torch.float32 of size 1]\n",
       "        (17): Parameter containing: [torch.float32 of size 1]\n",
       "        (18): Parameter containing: [torch.float32 of size 1]\n",
       "        (19): Parameter containing: [torch.float32 of size 1]\n",
       "        (20): Parameter containing: [torch.float32 of size 1]\n",
       "        (21): Parameter containing: [torch.float32 of size 1]\n",
       "        (22): Parameter containing: [torch.float32 of size 1]\n",
       "        (23): Parameter containing: [torch.float32 of size 1]\n",
       "        (24): Parameter containing: [torch.float32 of size 1]\n",
       "    )\n",
       "  )\n",
       "  (train_corr): RegressionMetrics()\n",
       "  (val_corr): ModuleList(\n",
       "    (0-2): 3 x RegressionMetrics()\n",
       "  )\n",
       "  (estimator): FeedForward(\n",
       "    (ff): Sequential(\n",
       "      (0): Sequential(\n",
       "        (0): LoRALinear(\n",
       "          (dropout): Identity()\n",
       "          (lora_a): Linear(in_features=1024, out_features=4, bias=False)\n",
       "          (lora_b): Linear(in_features=4, out_features=3072, bias=False)\n",
       "        )\n",
       "        (1): BiasLayer()\n",
       "      )\n",
       "      (1): Tanh()\n",
       "      (2): Dropout(p=0.1, inplace=False)\n",
       "      (3): Sequential(\n",
       "        (0): LoRALinear(\n",
       "          (dropout): Identity()\n",
       "          (lora_a): Linear(in_features=3072, out_features=4, bias=False)\n",
       "          (lora_b): Linear(in_features=4, out_features=1024, bias=False)\n",
       "        )\n",
       "        (1): BiasLayer()\n",
       "      )\n",
       "      (4): Tanh()\n",
       "      (5): Dropout(p=0.1, inplace=False)\n",
       "      (6): Linear(in_features=1024, out_features=1, bias=True)\n",
       "    )\n",
       "  )\n",
       "  (sentloss): MSELoss()\n",
       ")"
      ]
     },
     "execution_count": 12,
     "metadata": {},
     "output_type": "execute_result"
    }
   ],
   "source": [
    "model"
   ]
  },
  {
   "cell_type": "code",
   "execution_count": null,
   "id": "24088704-ec56-4b29-a35c-97885b927948",
   "metadata": {},
   "outputs": [],
   "source": []
  }
 ],
 "metadata": {
  "kernelspec": {
   "display_name": "Python 3 (ipykernel)",
   "language": "python",
   "name": "python3"
  },
  "language_info": {
   "codemirror_mode": {
    "name": "ipython",
    "version": 3
   },
   "file_extension": ".py",
   "mimetype": "text/x-python",
   "name": "python",
   "nbconvert_exporter": "python",
   "pygments_lexer": "ipython3",
   "version": "3.12.7"
  }
 },
 "nbformat": 4,
 "nbformat_minor": 5
}
